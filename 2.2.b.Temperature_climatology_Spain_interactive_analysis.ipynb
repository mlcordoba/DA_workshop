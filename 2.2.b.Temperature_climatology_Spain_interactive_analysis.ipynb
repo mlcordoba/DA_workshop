{
 "cells": [
  {
   "cell_type": "markdown",
   "metadata": {},
   "source": [
    "2.2.2 Temperature climatology in Spain (interactive analysis)\n",
    "=================================================\n",
    "In this notebook we will analise **interactively** the daily meteorological observations.<br>\n",
    "Our final goal is to know whether the temperature anomaly has influence on the power demand or not.<br>\n",
    "<br>"
   ]
  },
  {
   "cell_type": "markdown",
   "metadata": {},
   "source": [
    "Now, let's import the _classic stack_"
   ]
  },
  {
   "cell_type": "code",
   "execution_count": 1,
   "metadata": {},
   "outputs": [],
   "source": [
    "%matplotlib inline\n",
    "import matplotlib.pyplot as plt\n",
    "import numpy as np\n",
    "import pandas as pd\n",
    "import warnings\n",
    "warnings.filterwarnings('ignore')"
   ]
  },
  {
   "cell_type": "markdown",
   "metadata": {},
   "source": [
    "We do now need to files downloaded previously.<br>\n",
    "We need to concatenate all files. This is undertook through the command line, using the **cat** command.<br>\n",
    "In order to call the system commands, we use the key word %%bash (the Linux bash)"
   ]
  },
  {
   "cell_type": "raw",
   "metadata": {},
   "source": [
    "%%bash\n",
    "cat aemet_valores_climatologicos_todas_*.csv > aemet_valores_climatologicos_todas_all_period.csv"
   ]
  },
  {
   "cell_type": "code",
   "execution_count": 2,
   "metadata": {},
   "outputs": [],
   "source": [
    "DATA = pd.read_csv(\"aemet_valores_climatologicos_todas_all_period.csv.bz2\",compression='bz2')"
   ]
  },
  {
   "cell_type": "markdown",
   "metadata": {},
   "source": [
    "Let's have a quick look at the first and last lines of the file"
   ]
  },
  {
   "cell_type": "code",
   "execution_count": 3,
   "metadata": {},
   "outputs": [
    {
     "data": {
      "text/html": [
       "<div>\n",
       "<style scoped>\n",
       "    .dataframe tbody tr th:only-of-type {\n",
       "        vertical-align: middle;\n",
       "    }\n",
       "\n",
       "    .dataframe tbody tr th {\n",
       "        vertical-align: top;\n",
       "    }\n",
       "\n",
       "    .dataframe thead th {\n",
       "        text-align: right;\n",
       "    }\n",
       "</style>\n",
       "<table border=\"1\" class=\"dataframe\">\n",
       "  <thead>\n",
       "    <tr style=\"text-align: right;\">\n",
       "      <th></th>\n",
       "      <th>altitud</th>\n",
       "      <th>dir</th>\n",
       "      <th>fecha</th>\n",
       "      <th>horaPresMax</th>\n",
       "      <th>horaPresMin</th>\n",
       "      <th>horaracha</th>\n",
       "      <th>horatmax</th>\n",
       "      <th>horatmin</th>\n",
       "      <th>indicativo</th>\n",
       "      <th>nombre</th>\n",
       "      <th>prec</th>\n",
       "      <th>presMax</th>\n",
       "      <th>presMin</th>\n",
       "      <th>provincia</th>\n",
       "      <th>racha</th>\n",
       "      <th>sol</th>\n",
       "      <th>tmax</th>\n",
       "      <th>tmed</th>\n",
       "      <th>tmin</th>\n",
       "      <th>velmedia</th>\n",
       "    </tr>\n",
       "  </thead>\n",
       "  <tbody>\n",
       "    <tr>\n",
       "      <th>0</th>\n",
       "      <td>273</td>\n",
       "      <td>24</td>\n",
       "      <td>2009-12-01</td>\n",
       "      <td>10</td>\n",
       "      <td>00</td>\n",
       "      <td>09:20</td>\n",
       "      <td>12:50</td>\n",
       "      <td>Varias</td>\n",
       "      <td>4358X</td>\n",
       "      <td>DON BENITO</td>\n",
       "      <td>1,0</td>\n",
       "      <td>992,4</td>\n",
       "      <td>989,3</td>\n",
       "      <td>BADAJOZ</td>\n",
       "      <td>5,6</td>\n",
       "      <td>NaN</td>\n",
       "      <td>11,9</td>\n",
       "      <td>7,7</td>\n",
       "      <td>3,5</td>\n",
       "      <td>1,7</td>\n",
       "    </tr>\n",
       "    <tr>\n",
       "      <th>1</th>\n",
       "      <td>632</td>\n",
       "      <td>01</td>\n",
       "      <td>2009-12-01</td>\n",
       "      <td>Varias</td>\n",
       "      <td>06</td>\n",
       "      <td>16:33</td>\n",
       "      <td>12:34</td>\n",
       "      <td>05:38</td>\n",
       "      <td>C447A</td>\n",
       "      <td>TENERIFE NORTE AEROPUERTO</td>\n",
       "      <td>0,6</td>\n",
       "      <td>953,4</td>\n",
       "      <td>950,8</td>\n",
       "      <td>STA. CRUZ DE TENERIFE</td>\n",
       "      <td>8,3</td>\n",
       "      <td>0,7</td>\n",
       "      <td>16,8</td>\n",
       "      <td>15,2</td>\n",
       "      <td>13,5</td>\n",
       "      <td>2,5</td>\n",
       "    </tr>\n",
       "  </tbody>\n",
       "</table>\n",
       "</div>"
      ],
      "text/plain": [
       "  altitud dir       fecha horaPresMax horaPresMin horaracha horatmax horatmin  \\\n",
       "0     273  24  2009-12-01          10          00     09:20    12:50   Varias   \n",
       "1     632  01  2009-12-01      Varias          06     16:33    12:34    05:38   \n",
       "\n",
       "  indicativo                     nombre prec presMax presMin  \\\n",
       "0      4358X                 DON BENITO  1,0   992,4   989,3   \n",
       "1      C447A  TENERIFE NORTE AEROPUERTO  0,6   953,4   950,8   \n",
       "\n",
       "               provincia racha  sol  tmax  tmed  tmin velmedia  \n",
       "0                BADAJOZ   5,6  NaN  11,9   7,7   3,5      1,7  \n",
       "1  STA. CRUZ DE TENERIFE   8,3  0,7  16,8  15,2  13,5      2,5  "
      ]
     },
     "execution_count": 3,
     "metadata": {},
     "output_type": "execute_result"
    }
   ],
   "source": [
    "DATA.head(2)"
   ]
  },
  {
   "cell_type": "code",
   "execution_count": 4,
   "metadata": {},
   "outputs": [
    {
     "data": {
      "text/html": [
       "<div>\n",
       "<style scoped>\n",
       "    .dataframe tbody tr th:only-of-type {\n",
       "        vertical-align: middle;\n",
       "    }\n",
       "\n",
       "    .dataframe tbody tr th {\n",
       "        vertical-align: top;\n",
       "    }\n",
       "\n",
       "    .dataframe thead th {\n",
       "        text-align: right;\n",
       "    }\n",
       "</style>\n",
       "<table border=\"1\" class=\"dataframe\">\n",
       "  <thead>\n",
       "    <tr style=\"text-align: right;\">\n",
       "      <th></th>\n",
       "      <th>altitud</th>\n",
       "      <th>dir</th>\n",
       "      <th>fecha</th>\n",
       "      <th>horaPresMax</th>\n",
       "      <th>horaPresMin</th>\n",
       "      <th>horaracha</th>\n",
       "      <th>horatmax</th>\n",
       "      <th>horatmin</th>\n",
       "      <th>indicativo</th>\n",
       "      <th>nombre</th>\n",
       "      <th>prec</th>\n",
       "      <th>presMax</th>\n",
       "      <th>presMin</th>\n",
       "      <th>provincia</th>\n",
       "      <th>racha</th>\n",
       "      <th>sol</th>\n",
       "      <th>tmax</th>\n",
       "      <th>tmed</th>\n",
       "      <th>tmin</th>\n",
       "      <th>velmedia</th>\n",
       "    </tr>\n",
       "  </thead>\n",
       "  <tbody>\n",
       "    <tr>\n",
       "      <th>815943</th>\n",
       "      <td>40</td>\n",
       "      <td>30</td>\n",
       "      <td>2018-12-31</td>\n",
       "      <td>NaN</td>\n",
       "      <td>NaN</td>\n",
       "      <td>01:10</td>\n",
       "      <td>14:10</td>\n",
       "      <td>07:30</td>\n",
       "      <td>0255B</td>\n",
       "      <td>SANTA SUSANNA</td>\n",
       "      <td>NaN</td>\n",
       "      <td>NaN</td>\n",
       "      <td>NaN</td>\n",
       "      <td>BARCELONA</td>\n",
       "      <td>7,2</td>\n",
       "      <td>NaN</td>\n",
       "      <td>17,6</td>\n",
       "      <td>10,6</td>\n",
       "      <td>3,7</td>\n",
       "      <td>0,6</td>\n",
       "    </tr>\n",
       "    <tr>\n",
       "      <th>815944</th>\n",
       "      <td>410</td>\n",
       "      <td>17</td>\n",
       "      <td>2018-12-31</td>\n",
       "      <td>10</td>\n",
       "      <td>15</td>\n",
       "      <td>10:00</td>\n",
       "      <td>15:40</td>\n",
       "      <td>06:30</td>\n",
       "      <td>5612B</td>\n",
       "      <td>LA RODA DE ANDALUCÍA</td>\n",
       "      <td>0,0</td>\n",
       "      <td>981,3</td>\n",
       "      <td>979,0</td>\n",
       "      <td>SEVILLA</td>\n",
       "      <td>7,5</td>\n",
       "      <td>NaN</td>\n",
       "      <td>17,3</td>\n",
       "      <td>10,0</td>\n",
       "      <td>2,8</td>\n",
       "      <td>3,1</td>\n",
       "    </tr>\n",
       "  </tbody>\n",
       "</table>\n",
       "</div>"
      ],
      "text/plain": [
       "       altitud dir       fecha horaPresMax horaPresMin horaracha horatmax  \\\n",
       "815943      40  30  2018-12-31         NaN         NaN     01:10    14:10   \n",
       "815944     410  17  2018-12-31          10          15     10:00    15:40   \n",
       "\n",
       "       horatmin indicativo                nombre prec presMax presMin  \\\n",
       "815943    07:30      0255B         SANTA SUSANNA  NaN     NaN     NaN   \n",
       "815944    06:30      5612B  LA RODA DE ANDALUCÍA  0,0   981,3   979,0   \n",
       "\n",
       "        provincia racha  sol  tmax  tmed tmin velmedia  \n",
       "815943  BARCELONA   7,2  NaN  17,6  10,6  3,7      0,6  \n",
       "815944    SEVILLA   7,5  NaN  17,3  10,0  2,8      3,1  "
      ]
     },
     "execution_count": 4,
     "metadata": {},
     "output_type": "execute_result"
    }
   ],
   "source": [
    "DATA.tail(2)"
   ]
  },
  {
   "cell_type": "markdown",
   "metadata": {},
   "source": [
    "The observations cover the period end of 2009 end of 2018, 10 years of data. It seems enough to have a representative climatology"
   ]
  },
  {
   "cell_type": "markdown",
   "metadata": {},
   "source": [
    "<br>"
   ]
  },
  {
   "cell_type": "markdown",
   "metadata": {},
   "source": [
    "# Some data preparation ..."
   ]
  },
  {
   "cell_type": "markdown",
   "metadata": {},
   "source": [
    "The original data includes several issues that make them not suitable for a data analysis. This is a ver frequent problem..<br>\n",
    "First of all, let's print all the fields in order to make a sensible selection."
   ]
  },
  {
   "cell_type": "code",
   "execution_count": 5,
   "metadata": {},
   "outputs": [
    {
     "name": "stdout",
     "output_type": "stream",
     "text": [
      "altitud\n",
      "dir\n",
      "fecha\n",
      "horaPresMax\n",
      "horaPresMin\n",
      "horaracha\n",
      "horatmax\n",
      "horatmin\n",
      "indicativo\n",
      "nombre\n",
      "prec\n",
      "presMax\n",
      "presMin\n",
      "provincia\n",
      "racha\n",
      "sol\n",
      "tmax\n",
      "tmed\n",
      "tmin\n",
      "velmedia\n"
     ]
    }
   ],
   "source": [
    "for field in DATA.columns:\n",
    "    print(field)"
   ]
  },
  {
   "cell_type": "markdown",
   "metadata": {},
   "source": [
    "In Pandas selected columns must be ingets as a list. However, let's prepare 4 different list which differentiate the fields types."
   ]
  },
  {
   "cell_type": "code",
   "execution_count": 5,
   "metadata": {},
   "outputs": [],
   "source": [
    "info_fields = ['indicativo','provincia','nombre']\n",
    "datetime_fields = ['fecha']\n",
    "temperature_fields = ['tmin','tmed','tmax']\n",
    "other_fields = ['prec','velmedia','sol']"
   ]
  },
  {
   "cell_type": "code",
   "execution_count": 6,
   "metadata": {},
   "outputs": [],
   "source": [
    "SELECTION = DATA[info_fields + datetime_fields + temperature_fields + other_fields]"
   ]
  },
  {
   "cell_type": "code",
   "execution_count": 7,
   "metadata": {},
   "outputs": [
    {
     "data": {
      "text/html": [
       "<div>\n",
       "<style scoped>\n",
       "    .dataframe tbody tr th:only-of-type {\n",
       "        vertical-align: middle;\n",
       "    }\n",
       "\n",
       "    .dataframe tbody tr th {\n",
       "        vertical-align: top;\n",
       "    }\n",
       "\n",
       "    .dataframe thead th {\n",
       "        text-align: right;\n",
       "    }\n",
       "</style>\n",
       "<table border=\"1\" class=\"dataframe\">\n",
       "  <thead>\n",
       "    <tr style=\"text-align: right;\">\n",
       "      <th></th>\n",
       "      <th>indicativo</th>\n",
       "      <th>provincia</th>\n",
       "      <th>nombre</th>\n",
       "      <th>fecha</th>\n",
       "      <th>tmin</th>\n",
       "      <th>tmed</th>\n",
       "      <th>tmax</th>\n",
       "      <th>prec</th>\n",
       "      <th>velmedia</th>\n",
       "      <th>sol</th>\n",
       "    </tr>\n",
       "  </thead>\n",
       "  <tbody>\n",
       "    <tr>\n",
       "      <th>0</th>\n",
       "      <td>4358X</td>\n",
       "      <td>BADAJOZ</td>\n",
       "      <td>DON BENITO</td>\n",
       "      <td>2009-12-01</td>\n",
       "      <td>3,5</td>\n",
       "      <td>7,7</td>\n",
       "      <td>11,9</td>\n",
       "      <td>1,0</td>\n",
       "      <td>1,7</td>\n",
       "      <td>NaN</td>\n",
       "    </tr>\n",
       "    <tr>\n",
       "      <th>1</th>\n",
       "      <td>C447A</td>\n",
       "      <td>STA. CRUZ DE TENERIFE</td>\n",
       "      <td>TENERIFE NORTE AEROPUERTO</td>\n",
       "      <td>2009-12-01</td>\n",
       "      <td>13,5</td>\n",
       "      <td>15,2</td>\n",
       "      <td>16,8</td>\n",
       "      <td>0,6</td>\n",
       "      <td>2,5</td>\n",
       "      <td>0,7</td>\n",
       "    </tr>\n",
       "    <tr>\n",
       "      <th>2</th>\n",
       "      <td>6106X</td>\n",
       "      <td>MALAGA</td>\n",
       "      <td>ANTEQUERA</td>\n",
       "      <td>2009-12-01</td>\n",
       "      <td>0,7</td>\n",
       "      <td>6,4</td>\n",
       "      <td>12,2</td>\n",
       "      <td>0,0</td>\n",
       "      <td>1,1</td>\n",
       "      <td>NaN</td>\n",
       "    </tr>\n",
       "    <tr>\n",
       "      <th>3</th>\n",
       "      <td>9698U</td>\n",
       "      <td>LLEIDA</td>\n",
       "      <td>TALARN</td>\n",
       "      <td>2009-12-01</td>\n",
       "      <td>-1,1</td>\n",
       "      <td>5,0</td>\n",
       "      <td>11,0</td>\n",
       "      <td>0,0</td>\n",
       "      <td>NaN</td>\n",
       "      <td>NaN</td>\n",
       "    </tr>\n",
       "    <tr>\n",
       "      <th>4</th>\n",
       "      <td>4410X</td>\n",
       "      <td>BADAJOZ</td>\n",
       "      <td>MÉRIDA</td>\n",
       "      <td>2009-12-01</td>\n",
       "      <td>2,2</td>\n",
       "      <td>7,2</td>\n",
       "      <td>12,2</td>\n",
       "      <td>1,2</td>\n",
       "      <td>1,4</td>\n",
       "      <td>NaN</td>\n",
       "    </tr>\n",
       "  </tbody>\n",
       "</table>\n",
       "</div>"
      ],
      "text/plain": [
       "  indicativo              provincia                     nombre       fecha  \\\n",
       "0      4358X                BADAJOZ                 DON BENITO  2009-12-01   \n",
       "1      C447A  STA. CRUZ DE TENERIFE  TENERIFE NORTE AEROPUERTO  2009-12-01   \n",
       "2      6106X                 MALAGA                  ANTEQUERA  2009-12-01   \n",
       "3      9698U                 LLEIDA                     TALARN  2009-12-01   \n",
       "4      4410X                BADAJOZ                     MÉRIDA  2009-12-01   \n",
       "\n",
       "   tmin  tmed  tmax prec velmedia  sol  \n",
       "0   3,5   7,7  11,9  1,0      1,7  NaN  \n",
       "1  13,5  15,2  16,8  0,6      2,5  0,7  \n",
       "2   0,7   6,4  12,2  0,0      1,1  NaN  \n",
       "3  -1,1   5,0  11,0  0,0      NaN  NaN  \n",
       "4   2,2   7,2  12,2  1,2      1,4  NaN  "
      ]
     },
     "execution_count": 7,
     "metadata": {},
     "output_type": "execute_result"
    }
   ],
   "source": [
    "SELECTION.head()"
   ]
  },
  {
   "cell_type": "markdown",
   "metadata": {},
   "source": [
    "Fieds are in Spanish, let's translate them to English"
   ]
  },
  {
   "cell_type": "code",
   "execution_count": 8,
   "metadata": {},
   "outputs": [],
   "source": [
    "eng_info_fields = ['code','region','station']\n",
    "eng_datetime_fields = ['date']\n",
    "eng_temperature_fields = ['tmin','tavg','tmax']\n",
    "eng_other_fields = ['prec','widspeed','sun']"
   ]
  },
  {
   "cell_type": "code",
   "execution_count": 9,
   "metadata": {},
   "outputs": [],
   "source": [
    "SELECTION.columns = eng_info_fields + eng_datetime_fields + eng_temperature_fields + eng_other_fields"
   ]
  },
  {
   "cell_type": "code",
   "execution_count": 10,
   "metadata": {},
   "outputs": [
    {
     "data": {
      "text/html": [
       "<div>\n",
       "<style scoped>\n",
       "    .dataframe tbody tr th:only-of-type {\n",
       "        vertical-align: middle;\n",
       "    }\n",
       "\n",
       "    .dataframe tbody tr th {\n",
       "        vertical-align: top;\n",
       "    }\n",
       "\n",
       "    .dataframe thead th {\n",
       "        text-align: right;\n",
       "    }\n",
       "</style>\n",
       "<table border=\"1\" class=\"dataframe\">\n",
       "  <thead>\n",
       "    <tr style=\"text-align: right;\">\n",
       "      <th></th>\n",
       "      <th>code</th>\n",
       "      <th>region</th>\n",
       "      <th>station</th>\n",
       "      <th>date</th>\n",
       "      <th>tmin</th>\n",
       "      <th>tavg</th>\n",
       "      <th>tmax</th>\n",
       "      <th>prec</th>\n",
       "      <th>widspeed</th>\n",
       "      <th>sun</th>\n",
       "    </tr>\n",
       "  </thead>\n",
       "  <tbody>\n",
       "    <tr>\n",
       "      <th>0</th>\n",
       "      <td>4358X</td>\n",
       "      <td>BADAJOZ</td>\n",
       "      <td>DON BENITO</td>\n",
       "      <td>2009-12-01</td>\n",
       "      <td>3,5</td>\n",
       "      <td>7,7</td>\n",
       "      <td>11,9</td>\n",
       "      <td>1,0</td>\n",
       "      <td>1,7</td>\n",
       "      <td>NaN</td>\n",
       "    </tr>\n",
       "    <tr>\n",
       "      <th>1</th>\n",
       "      <td>C447A</td>\n",
       "      <td>STA. CRUZ DE TENERIFE</td>\n",
       "      <td>TENERIFE NORTE AEROPUERTO</td>\n",
       "      <td>2009-12-01</td>\n",
       "      <td>13,5</td>\n",
       "      <td>15,2</td>\n",
       "      <td>16,8</td>\n",
       "      <td>0,6</td>\n",
       "      <td>2,5</td>\n",
       "      <td>0,7</td>\n",
       "    </tr>\n",
       "    <tr>\n",
       "      <th>2</th>\n",
       "      <td>6106X</td>\n",
       "      <td>MALAGA</td>\n",
       "      <td>ANTEQUERA</td>\n",
       "      <td>2009-12-01</td>\n",
       "      <td>0,7</td>\n",
       "      <td>6,4</td>\n",
       "      <td>12,2</td>\n",
       "      <td>0,0</td>\n",
       "      <td>1,1</td>\n",
       "      <td>NaN</td>\n",
       "    </tr>\n",
       "    <tr>\n",
       "      <th>3</th>\n",
       "      <td>9698U</td>\n",
       "      <td>LLEIDA</td>\n",
       "      <td>TALARN</td>\n",
       "      <td>2009-12-01</td>\n",
       "      <td>-1,1</td>\n",
       "      <td>5,0</td>\n",
       "      <td>11,0</td>\n",
       "      <td>0,0</td>\n",
       "      <td>NaN</td>\n",
       "      <td>NaN</td>\n",
       "    </tr>\n",
       "    <tr>\n",
       "      <th>4</th>\n",
       "      <td>4410X</td>\n",
       "      <td>BADAJOZ</td>\n",
       "      <td>MÉRIDA</td>\n",
       "      <td>2009-12-01</td>\n",
       "      <td>2,2</td>\n",
       "      <td>7,2</td>\n",
       "      <td>12,2</td>\n",
       "      <td>1,2</td>\n",
       "      <td>1,4</td>\n",
       "      <td>NaN</td>\n",
       "    </tr>\n",
       "  </tbody>\n",
       "</table>\n",
       "</div>"
      ],
      "text/plain": [
       "    code                 region                    station        date  tmin  \\\n",
       "0  4358X                BADAJOZ                 DON BENITO  2009-12-01   3,5   \n",
       "1  C447A  STA. CRUZ DE TENERIFE  TENERIFE NORTE AEROPUERTO  2009-12-01  13,5   \n",
       "2  6106X                 MALAGA                  ANTEQUERA  2009-12-01   0,7   \n",
       "3  9698U                 LLEIDA                     TALARN  2009-12-01  -1,1   \n",
       "4  4410X                BADAJOZ                     MÉRIDA  2009-12-01   2,2   \n",
       "\n",
       "   tavg  tmax prec widspeed  sun  \n",
       "0   7,7  11,9  1,0      1,7  NaN  \n",
       "1  15,2  16,8  0,6      2,5  0,7  \n",
       "2   6,4  12,2  0,0      1,1  NaN  \n",
       "3   5,0  11,0  0,0      NaN  NaN  \n",
       "4   7,2  12,2  1,2      1,4  NaN  "
      ]
     },
     "execution_count": 10,
     "metadata": {},
     "output_type": "execute_result"
    }
   ],
   "source": [
    "SELECTION.head()"
   ]
  },
  {
   "cell_type": "markdown",
   "metadata": {},
   "source": [
    "Data are not on the right format, decimal separator is commad instead of period. We will replace it.<br>\n",
    "And then transform to numeric value. The errors = 'coerce' force unexpected values to NaN."
   ]
  },
  {
   "cell_type": "code",
   "execution_count": 11,
   "metadata": {},
   "outputs": [],
   "source": [
    "for field in eng_temperature_fields + eng_other_fields:\n",
    "    SELECTION[field] = SELECTION[field].str.replace(',', '.')\n",
    "    SELECTION[field] = pd.to_numeric(SELECTION[field], errors='coerce')"
   ]
  },
  {
   "cell_type": "markdown",
   "metadata": {},
   "source": [
    "Let's check that all fields are numeric by caling the describe method."
   ]
  },
  {
   "cell_type": "code",
   "execution_count": 12,
   "metadata": {},
   "outputs": [
    {
     "data": {
      "text/html": [
       "<div>\n",
       "<style scoped>\n",
       "    .dataframe tbody tr th:only-of-type {\n",
       "        vertical-align: middle;\n",
       "    }\n",
       "\n",
       "    .dataframe tbody tr th {\n",
       "        vertical-align: top;\n",
       "    }\n",
       "\n",
       "    .dataframe thead th {\n",
       "        text-align: right;\n",
       "    }\n",
       "</style>\n",
       "<table border=\"1\" class=\"dataframe\">\n",
       "  <thead>\n",
       "    <tr style=\"text-align: right;\">\n",
       "      <th></th>\n",
       "      <th>tmin</th>\n",
       "      <th>tavg</th>\n",
       "      <th>tmax</th>\n",
       "      <th>prec</th>\n",
       "      <th>widspeed</th>\n",
       "      <th>sun</th>\n",
       "    </tr>\n",
       "  </thead>\n",
       "  <tbody>\n",
       "    <tr>\n",
       "      <th>count</th>\n",
       "      <td>784570.000000</td>\n",
       "      <td>784385.000000</td>\n",
       "      <td>784798.000000</td>\n",
       "      <td>769163.000000</td>\n",
       "      <td>750474.000000</td>\n",
       "      <td>405657.000000</td>\n",
       "    </tr>\n",
       "    <tr>\n",
       "      <th>mean</th>\n",
       "      <td>10.173309</td>\n",
       "      <td>15.420504</td>\n",
       "      <td>20.670381</td>\n",
       "      <td>1.699745</td>\n",
       "      <td>2.969312</td>\n",
       "      <td>7.197432</td>\n",
       "    </tr>\n",
       "    <tr>\n",
       "      <th>std</th>\n",
       "      <td>6.926215</td>\n",
       "      <td>7.116657</td>\n",
       "      <td>8.060659</td>\n",
       "      <td>5.829885</td>\n",
       "      <td>2.050421</td>\n",
       "      <td>4.150287</td>\n",
       "    </tr>\n",
       "    <tr>\n",
       "      <th>min</th>\n",
       "      <td>-18.600000</td>\n",
       "      <td>-12.600000</td>\n",
       "      <td>-11.000000</td>\n",
       "      <td>0.000000</td>\n",
       "      <td>0.000000</td>\n",
       "      <td>0.000000</td>\n",
       "    </tr>\n",
       "    <tr>\n",
       "      <th>25%</th>\n",
       "      <td>5.100000</td>\n",
       "      <td>10.100000</td>\n",
       "      <td>14.700000</td>\n",
       "      <td>0.000000</td>\n",
       "      <td>1.700000</td>\n",
       "      <td>3.800000</td>\n",
       "    </tr>\n",
       "    <tr>\n",
       "      <th>50%</th>\n",
       "      <td>10.300000</td>\n",
       "      <td>15.400000</td>\n",
       "      <td>20.500000</td>\n",
       "      <td>0.000000</td>\n",
       "      <td>2.500000</td>\n",
       "      <td>7.900000</td>\n",
       "    </tr>\n",
       "    <tr>\n",
       "      <th>75%</th>\n",
       "      <td>15.500000</td>\n",
       "      <td>20.900000</td>\n",
       "      <td>26.600000</td>\n",
       "      <td>0.200000</td>\n",
       "      <td>3.600000</td>\n",
       "      <td>10.500000</td>\n",
       "    </tr>\n",
       "    <tr>\n",
       "      <th>max</th>\n",
       "      <td>30.600000</td>\n",
       "      <td>36.600000</td>\n",
       "      <td>46.900000</td>\n",
       "      <td>263.400000</td>\n",
       "      <td>36.100000</td>\n",
       "      <td>15.000000</td>\n",
       "    </tr>\n",
       "  </tbody>\n",
       "</table>\n",
       "</div>"
      ],
      "text/plain": [
       "                tmin           tavg           tmax           prec  \\\n",
       "count  784570.000000  784385.000000  784798.000000  769163.000000   \n",
       "mean       10.173309      15.420504      20.670381       1.699745   \n",
       "std         6.926215       7.116657       8.060659       5.829885   \n",
       "min       -18.600000     -12.600000     -11.000000       0.000000   \n",
       "25%         5.100000      10.100000      14.700000       0.000000   \n",
       "50%        10.300000      15.400000      20.500000       0.000000   \n",
       "75%        15.500000      20.900000      26.600000       0.200000   \n",
       "max        30.600000      36.600000      46.900000     263.400000   \n",
       "\n",
       "            widspeed            sun  \n",
       "count  750474.000000  405657.000000  \n",
       "mean        2.969312       7.197432  \n",
       "std         2.050421       4.150287  \n",
       "min         0.000000       0.000000  \n",
       "25%         1.700000       3.800000  \n",
       "50%         2.500000       7.900000  \n",
       "75%         3.600000      10.500000  \n",
       "max        36.100000      15.000000  "
      ]
     },
     "execution_count": 12,
     "metadata": {},
     "output_type": "execute_result"
    }
   ],
   "source": [
    "SELECTION.describe()"
   ]
  },
  {
   "cell_type": "markdown",
   "metadata": {},
   "source": [
    "<br>"
   ]
  },
  {
   "cell_type": "markdown",
   "metadata": {},
   "source": [
    "# Interactive mode"
   ]
  },
  {
   "cell_type": "markdown",
   "metadata": {},
   "source": [
    "Interactive notebooks are available through what is called **_widgets_**"
   ]
  },
  {
   "cell_type": "code",
   "execution_count": 13,
   "metadata": {},
   "outputs": [],
   "source": [
    "import ipywidgets as widgets\n",
    "from ipywidgets import interact, interact_manual,interactive, interactive_output\n",
    "from ipywidgets import fixed, FloatSlider, Dropdown, HBox, Label, VBox, Layout"
   ]
  },
  {
   "cell_type": "code",
   "execution_count": 14,
   "metadata": {},
   "outputs": [],
   "source": [
    "def show_region(df,region):\n",
    "    return df.loc[df['region'] == region]"
   ]
  },
  {
   "cell_type": "code",
   "execution_count": 15,
   "metadata": {},
   "outputs": [],
   "source": [
    "# The list(set(..)) method is a quick way to make a list with unique values \n",
    "region_list = sorted(list(set(SELECTION['region'])))"
   ]
  },
  {
   "cell_type": "code",
   "execution_count": 16,
   "metadata": {
    "scrolled": true
   },
   "outputs": [
    {
     "data": {
      "application/vnd.jupyter.widget-view+json": {
       "model_id": "b8688c1ca7f34905b9af12b0340c5b01",
       "version_major": 2,
       "version_minor": 0
      },
      "text/plain": [
       "interactive(children=(Dropdown(description='region', options=('A CORUÑA', 'ALBACETE', 'ALICANTE', 'ALMERIA', '…"
      ]
     },
     "metadata": {},
     "output_type": "display_data"
    }
   ],
   "source": [
    "interact(show_region,df=fixed(SELECTION),region=region_list);"
   ]
  },
  {
   "cell_type": "code",
   "execution_count": 17,
   "metadata": {},
   "outputs": [],
   "source": [
    "SELECTION = SELECTION.drop(SELECTION[SELECTION['region'] == 'provincia'].index)"
   ]
  },
  {
   "cell_type": "code",
   "execution_count": 18,
   "metadata": {},
   "outputs": [],
   "source": [
    "station_list = sorted(list(set(SELECTION['station'])))"
   ]
  },
  {
   "cell_type": "code",
   "execution_count": 19,
   "metadata": {},
   "outputs": [],
   "source": [
    "# Function to select region and station (based on the selected region...)\n",
    "\n",
    "# Define the region widget (initialised at region = A CORUÑA)\n",
    "region_widget = Dropdown(options=region_list,\n",
    "                         value='A CORUÑA',\n",
    "                         description='Region:'\n",
    "                        )\n",
    "                        \n",
    "# Define the station widget (initialised at region = 'A CORUÑA' & statio = 'A CORUÑA')\n",
    "station_widget = Dropdown(options=sorted(list(set(SELECTION[SELECTION['region']=='A CORUÑA']['station']))),\n",
    "                         value='A CORUÑA',\n",
    "                         description='Station:'\n",
    "                         )\n",
    "                        \n",
    "# The upodate station list\n",
    "def on_update_brand_widget(*args):\n",
    "    station_widget.options = sorted(list(set(SELECTION[SELECTION['region']==region_widget.value]['station'])))\n",
    "\n",
    "# The observe method to link station to region\n",
    "region_widget.observe(on_update_brand_widget, 'value')\n",
    "\n",
    "# Function\n",
    "def show_region_station(df,region,station):\n",
    "    df_region = df.loc[df['region'] == region]\n",
    "    \n",
    "    display(df_region.loc[df_region['station'] == station])"
   ]
  },
  {
   "cell_type": "code",
   "execution_count": 20,
   "metadata": {
    "scrolled": true
   },
   "outputs": [
    {
     "data": {
      "application/vnd.jupyter.widget-view+json": {
       "model_id": "9b18ecfc34914e6590b4cf3a8908370e",
       "version_major": 2,
       "version_minor": 0
      },
      "text/plain": [
       "VBox(children=(HBox(children=(Dropdown(description='Region:', options=('A CORUÑA', 'ALBACETE', 'ALICANTE', 'AL…"
      ]
     },
     "metadata": {},
     "output_type": "display_data"
    }
   ],
   "source": [
    "Y = interactive(show_region_station,df=fixed(SELECTION),region=region_widget, station=station_widget)\n",
    "controls = HBox(Y.children[:-1], layout = Layout(flex_flow='row wrap'))\n",
    "output = Y.children[-1]\n",
    "display(VBox([controls, output]))"
   ]
  },
  {
   "cell_type": "markdown",
   "metadata": {},
   "source": [
    "Let's plot the weather variables over a period.<br>\n",
    "First, the _date_ fields needs to adquiere DataTime attributes"
   ]
  },
  {
   "cell_type": "code",
   "execution_count": 21,
   "metadata": {},
   "outputs": [],
   "source": [
    "SELECTION['date'] = pd.DatetimeIndex(pd.to_datetime(SELECTION['date']))"
   ]
  },
  {
   "cell_type": "code",
   "execution_count": 22,
   "metadata": {},
   "outputs": [
    {
     "data": {
      "text/html": [
       "<div>\n",
       "<style scoped>\n",
       "    .dataframe tbody tr th:only-of-type {\n",
       "        vertical-align: middle;\n",
       "    }\n",
       "\n",
       "    .dataframe tbody tr th {\n",
       "        vertical-align: top;\n",
       "    }\n",
       "\n",
       "    .dataframe thead th {\n",
       "        text-align: right;\n",
       "    }\n",
       "</style>\n",
       "<table border=\"1\" class=\"dataframe\">\n",
       "  <thead>\n",
       "    <tr style=\"text-align: right;\">\n",
       "      <th></th>\n",
       "      <th>code</th>\n",
       "      <th>region</th>\n",
       "      <th>station</th>\n",
       "      <th>date</th>\n",
       "      <th>tmin</th>\n",
       "      <th>tavg</th>\n",
       "      <th>tmax</th>\n",
       "      <th>prec</th>\n",
       "      <th>widspeed</th>\n",
       "      <th>sun</th>\n",
       "    </tr>\n",
       "  </thead>\n",
       "  <tbody>\n",
       "    <tr>\n",
       "      <th>0</th>\n",
       "      <td>4358X</td>\n",
       "      <td>BADAJOZ</td>\n",
       "      <td>DON BENITO</td>\n",
       "      <td>2009-12-01</td>\n",
       "      <td>3.5</td>\n",
       "      <td>7.7</td>\n",
       "      <td>11.9</td>\n",
       "      <td>1.0</td>\n",
       "      <td>1.7</td>\n",
       "      <td>NaN</td>\n",
       "    </tr>\n",
       "    <tr>\n",
       "      <th>1</th>\n",
       "      <td>C447A</td>\n",
       "      <td>STA. CRUZ DE TENERIFE</td>\n",
       "      <td>TENERIFE NORTE AEROPUERTO</td>\n",
       "      <td>2009-12-01</td>\n",
       "      <td>13.5</td>\n",
       "      <td>15.2</td>\n",
       "      <td>16.8</td>\n",
       "      <td>0.6</td>\n",
       "      <td>2.5</td>\n",
       "      <td>0.7</td>\n",
       "    </tr>\n",
       "    <tr>\n",
       "      <th>2</th>\n",
       "      <td>6106X</td>\n",
       "      <td>MALAGA</td>\n",
       "      <td>ANTEQUERA</td>\n",
       "      <td>2009-12-01</td>\n",
       "      <td>0.7</td>\n",
       "      <td>6.4</td>\n",
       "      <td>12.2</td>\n",
       "      <td>0.0</td>\n",
       "      <td>1.1</td>\n",
       "      <td>NaN</td>\n",
       "    </tr>\n",
       "    <tr>\n",
       "      <th>3</th>\n",
       "      <td>9698U</td>\n",
       "      <td>LLEIDA</td>\n",
       "      <td>TALARN</td>\n",
       "      <td>2009-12-01</td>\n",
       "      <td>-1.1</td>\n",
       "      <td>5.0</td>\n",
       "      <td>11.0</td>\n",
       "      <td>0.0</td>\n",
       "      <td>NaN</td>\n",
       "      <td>NaN</td>\n",
       "    </tr>\n",
       "    <tr>\n",
       "      <th>4</th>\n",
       "      <td>4410X</td>\n",
       "      <td>BADAJOZ</td>\n",
       "      <td>MÉRIDA</td>\n",
       "      <td>2009-12-01</td>\n",
       "      <td>2.2</td>\n",
       "      <td>7.2</td>\n",
       "      <td>12.2</td>\n",
       "      <td>1.2</td>\n",
       "      <td>1.4</td>\n",
       "      <td>NaN</td>\n",
       "    </tr>\n",
       "  </tbody>\n",
       "</table>\n",
       "</div>"
      ],
      "text/plain": [
       "    code                 region                    station       date  tmin  \\\n",
       "0  4358X                BADAJOZ                 DON BENITO 2009-12-01   3.5   \n",
       "1  C447A  STA. CRUZ DE TENERIFE  TENERIFE NORTE AEROPUERTO 2009-12-01  13.5   \n",
       "2  6106X                 MALAGA                  ANTEQUERA 2009-12-01   0.7   \n",
       "3  9698U                 LLEIDA                     TALARN 2009-12-01  -1.1   \n",
       "4  4410X                BADAJOZ                     MÉRIDA 2009-12-01   2.2   \n",
       "\n",
       "   tavg  tmax  prec  widspeed  sun  \n",
       "0   7.7  11.9   1.0       1.7  NaN  \n",
       "1  15.2  16.8   0.6       2.5  0.7  \n",
       "2   6.4  12.2   0.0       1.1  NaN  \n",
       "3   5.0  11.0   0.0       NaN  NaN  \n",
       "4   7.2  12.2   1.2       1.4  NaN  "
      ]
     },
     "execution_count": 22,
     "metadata": {},
     "output_type": "execute_result"
    }
   ],
   "source": [
    "SELECTION.head()"
   ]
  },
  {
   "cell_type": "code",
   "execution_count": 23,
   "metadata": {},
   "outputs": [],
   "source": [
    "# Function\n",
    "def show_region_station_dates(df,region,station,start_date,end_date):\n",
    "    sdate = pd.Timestamp(start_date)\n",
    "    edate = pd.Timestamp(end_date)\n",
    "\n",
    "    df_region = df.loc[df['region'] == region]\n",
    "    df_station = df_region.loc[df_region['station'] == station]\n",
    "    DataFrame = df_station.loc[df_station['date'] <= edate]\n",
    "    DataFrame = DataFrame.loc[DataFrame['date'] >= sdate]\n",
    "    \n",
    "    display(DataFrame)"
   ]
  },
  {
   "cell_type": "code",
   "execution_count": 36,
   "metadata": {
    "scrolled": false
   },
   "outputs": [
    {
     "data": {
      "application/vnd.jupyter.widget-view+json": {
       "model_id": "d323a779f57f45ed84519bd83782c075",
       "version_major": 2,
       "version_minor": 0
      },
      "text/plain": [
       "VBox(children=(HBox(children=(VBox(children=(Dropdown(description='Region:', index=32, options=('A CORUÑA', 'A…"
      ]
     },
     "metadata": {},
     "output_type": "display_data"
    }
   ],
   "source": [
    "Y = interactive(show_region_station_dates,df=fixed(SELECTION),region=region_widget, station=station_widget,\n",
    "               start_date=widgets.DatePicker(value=pd.to_datetime('2018-01-01')),\n",
    "               end_date=widgets.DatePicker(value=pd.to_datetime('2018-01-10'))\n",
    "               )\n",
    "controls_Left = VBox([Y.children[0],Y.children[1]])\n",
    "controls_Right = VBox([Y.children[2],Y.children[3]])\n",
    "controls = HBox([controls_Left,controls_Right], layout = Layout(flex_flow='row wrap'))\n",
    "output = Y.children[-1]\n",
    "display(VBox([controls, output]))"
   ]
  },
  {
   "cell_type": "code",
   "execution_count": 37,
   "metadata": {},
   "outputs": [],
   "source": [
    "# Function\n",
    "def plot_region_station_dates(df,region,station,start_date,end_date,column):\n",
    "    fig = plt.figure(figsize=(20,5))\n",
    "    plt.grid()\n",
    "    sdate = pd.Timestamp(start_date)\n",
    "    edate = pd.Timestamp(end_date)\n",
    "\n",
    "    df_region = df.loc[df['region'] == region]\n",
    "    df_station = df_region.loc[df_region['station'] == station]\n",
    "    DataFrame = df_station.loc[df_station['date'] <= edate]\n",
    "    DataFrame = DataFrame.loc[DataFrame['date'] >= sdate]\n",
    "    plt.title('%s at %s (%s) from %s to %s' % (column,station,region,sdate,edate),fontsize=10)\n",
    "    display(plt.plot(DataFrame['date'],DataFrame[column]))"
   ]
  },
  {
   "cell_type": "code",
   "execution_count": 40,
   "metadata": {},
   "outputs": [
    {
     "data": {
      "application/vnd.jupyter.widget-view+json": {
       "model_id": "558a38d80b55482a9358315f82644fec",
       "version_major": 2,
       "version_minor": 0
      },
      "text/plain": [
       "VBox(children=(HBox(children=(VBox(children=(Dropdown(description='Region:', index=32, options=('A CORUÑA', 'A…"
      ]
     },
     "metadata": {},
     "output_type": "display_data"
    }
   ],
   "source": [
    "Y = interactive(plot_region_station_dates,df=fixed(SELECTION),region=region_widget, station=station_widget,\n",
    "               start_date=widgets.DatePicker(value=pd.to_datetime('2018-01-01')),\n",
    "               end_date=widgets.DatePicker(value=pd.to_datetime('2018-01-10')),\n",
    "               column=eng_temperature_fields \n",
    "               );\n",
    "controls_Left = VBox([Y.children[0],Y.children[1]])\n",
    "controls_Right = VBox([Y.children[2],Y.children[3]])\n",
    "\n",
    "controls = HBox([controls_Left,controls_Right,Y.children[4]], layout = Layout(flex_flow='row wrap'))\n",
    "output = Y.children[-1]\n",
    "display(VBox([controls, output]))"
   ]
  }
 ],
 "metadata": {
  "kernelspec": {
   "display_name": "Python 3",
   "language": "python",
   "name": "python3"
  },
  "language_info": {
   "codemirror_mode": {
    "name": "ipython",
    "version": 3
   },
   "file_extension": ".py",
   "mimetype": "text/x-python",
   "name": "python",
   "nbconvert_exporter": "python",
   "pygments_lexer": "ipython3",
   "version": "3.6.7"
  }
 },
 "nbformat": 4,
 "nbformat_minor": 2
}
