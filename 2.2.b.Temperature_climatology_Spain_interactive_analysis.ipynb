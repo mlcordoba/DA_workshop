{
 "cells": [
  {
   "cell_type": "markdown",
   "metadata": {},
   "source": [
    "2.2.2 Temperature climatology in Spain (interactive analysis)\n",
    "=================================================\n",
    "In this notebook we will analise **interactively** the daily meteorological observations.<br>\n",
    "Our final goal is to know whether the temperature anomaly has influence on the power demand or not.<br>\n",
    "<br>\n",
    "However, before doing the climatological analysis, we will go through the Spanish meteorological service API (AEMET) to get access to the data.<br>\n",
    "Let's import the useful module first."
   ]
  },
  {
   "cell_type": "markdown",
   "metadata": {},
   "source": [
    "Interactive notebooks are available through what is called **_widgets_**"
   ]
  },
  {
   "cell_type": "code",
   "execution_count": 1,
   "metadata": {},
   "outputs": [],
   "source": [
    "import ipywidgets as widgets\n",
    "from ipywidgets import interact, interact_manual, interactive, fixed"
   ]
  },
  {
   "cell_type": "markdown",
   "metadata": {},
   "source": [
    "Now, let's import the _classic stack_"
   ]
  },
  {
   "cell_type": "code",
   "execution_count": 2,
   "metadata": {},
   "outputs": [],
   "source": [
    "%matplotlib inline\n",
    "import matplotlib.pyplot as plt\n",
    "import numpy as np\n",
    "import pandas as pd"
   ]
  },
  {
   "cell_type": "markdown",
   "metadata": {},
   "source": [
    "We do now need to files downloaded previously.<br>\n",
    "We need to concatenate all files. This is undertook through the command line, using the **cat** command.<br>\n",
    "In order to call the system commands, we use the key word %%bash (the Linux bash)"
   ]
  },
  {
   "cell_type": "code",
   "execution_count": null,
   "metadata": {},
   "outputs": [],
   "source": [
    "%%bash\n",
    "cat aemet_valores_climatologicos_todas_*.csv > aemet_valores_climatologicos_todas_all_period.csv"
   ]
  },
  {
   "cell_type": "code",
   "execution_count": null,
   "metadata": {},
   "outputs": [],
   "source": []
  }
 ],
 "metadata": {
  "kernelspec": {
   "display_name": "Python 3",
   "language": "python",
   "name": "python3"
  },
  "language_info": {
   "codemirror_mode": {
    "name": "ipython",
    "version": 3
   },
   "file_extension": ".py",
   "mimetype": "text/x-python",
   "name": "python",
   "nbconvert_exporter": "python",
   "pygments_lexer": "ipython3",
   "version": "3.6.7"
  }
 },
 "nbformat": 4,
 "nbformat_minor": 2
}
