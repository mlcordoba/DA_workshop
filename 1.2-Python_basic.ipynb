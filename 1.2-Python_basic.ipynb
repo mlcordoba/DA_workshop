{
 "cells": [
  {
   "cell_type": "markdown",
   "metadata": {},
   "source": [
    "1.2 Basic elements of Python\n",
    "======================================\n",
    "In this notebook we will work interactively to understand the basics of the Python programming language\n",
    "\n",
    "Contents\n",
    "---------------------\n",
    "+ Work with variables string and numeric type\n",
    "+ Functions\n",
    "+ Types of lists\n",
    "+ _Loops_ , _if / else_ and _try / except_\n",
    "+ Reading files"
   ]
  },
  {
   "cell_type": "markdown",
   "metadata": {},
   "source": [
    "**A** is a string variable. String variables are generated with quotation marks"
   ]
  },
  {
   "cell_type": "code",
   "execution_count": 15,
   "metadata": {},
   "outputs": [],
   "source": [
    "A = 'a very long text'"
   ]
  },
  {
   "cell_type": "markdown",
   "metadata": {},
   "source": [
    "In Python the variables are objects and all objects have associated methods.<br>\n",
    "Those methods are different based on what kind of objects they are dealing with.<br>\n",
    "For instance, if we are dealing with an object of type _str_, we could expect to make it uppercase.<br>"
   ]
  },
  {
   "cell_type": "code",
   "execution_count": 16,
   "metadata": {},
   "outputs": [
    {
     "data": {
      "text/plain": [
       "'A VERY LONG TEXT'"
      ]
     },
     "execution_count": 16,
     "metadata": {},
     "output_type": "execute_result"
    }
   ],
   "source": [
    "A.upper()"
   ]
  },
  {
   "cell_type": "markdown",
   "metadata": {},
   "source": [
    "Methods are applied to the right hand side, with dot followed by the given method.<br>\n",
    "Some methods require arguments that are passed between parentheses. <br>\n",
    "Other methods, the simple ones, do not require arguments, hence the parentheses are empty. <br>"
   ]
  },
  {
   "cell_type": "markdown",
   "metadata": {},
   "source": [
    "String variables can be replaced by means of the % symbol.<br>\n",
    "In this case with %s. The s stands for _str_ type.<br>"
   ]
  },
  {
   "cell_type": "code",
   "execution_count": 17,
   "metadata": {},
   "outputs": [],
   "source": [
    "title = 'A is %s' % A.upper()"
   ]
  },
  {
   "cell_type": "markdown",
   "metadata": {},
   "source": [
    "The variable _title_ has been created by replacing %s for another variable.<br>"
   ]
  },
  {
   "cell_type": "markdown",
   "metadata": {},
   "source": [
    "<br>"
   ]
  },
  {
   "cell_type": "markdown",
   "metadata": {},
   "source": [
    "Besides methods associated to objects, there are also **functions**.<br>\n",
    "The functions in Python are very similar to what you expect from a typical mathematcial functions, _x = f(x)_"
   ]
  },
  {
   "cell_type": "markdown",
   "metadata": {},
   "source": [
    "Let use the _print_ function to _'print'_ the variable _title_ content."
   ]
  },
  {
   "cell_type": "code",
   "execution_count": 18,
   "metadata": {},
   "outputs": [
    {
     "name": "stdout",
     "output_type": "stream",
     "text": [
      "A is A VERY LONG TEXT\n"
     ]
    }
   ],
   "source": [
    "print(title)"
   ]
  },
  {
   "cell_type": "markdown",
   "metadata": {},
   "source": [
    "<br>"
   ]
  },
  {
   "cell_type": "markdown",
   "metadata": {},
   "source": [
    "Numerical variables are another kind of variable type widely used.<br>\n",
    "Let's named it **x**, and will assign to it a numerical value.<br>"
   ]
  },
  {
   "cell_type": "code",
   "execution_count": 19,
   "metadata": {},
   "outputs": [],
   "source": [
    "x = 212"
   ]
  },
  {
   "cell_type": "markdown",
   "metadata": {},
   "source": [
    "If we would confirm the value is well assigned, let's print it."
   ]
  },
  {
   "cell_type": "code",
   "execution_count": 20,
   "metadata": {},
   "outputs": [
    {
     "name": "stdout",
     "output_type": "stream",
     "text": [
      "212\n"
     ]
    }
   ],
   "source": [
    "print(x)"
   ]
  },
  {
   "cell_type": "markdown",
   "metadata": {},
   "source": [
    "The _print_ function works in both _str_ and _int_ variables.<br>"
   ]
  },
  {
   "cell_type": "markdown",
   "metadata": {},
   "source": [
    "We can create a _str_ variable based on a _int_ variable by using the the % symbol."
   ]
  },
  {
   "cell_type": "code",
   "execution_count": 21,
   "metadata": {},
   "outputs": [],
   "source": [
    "title = 'x = %s' % (2*x)"
   ]
  },
  {
   "cell_type": "code",
   "execution_count": 22,
   "metadata": {},
   "outputs": [
    {
     "name": "stdout",
     "output_type": "stream",
     "text": [
      "x = 424\n"
     ]
    }
   ],
   "source": [
    "print(title)"
   ]
  },
  {
   "cell_type": "markdown",
   "metadata": {},
   "source": [
    "We can create a _str_ variable based on both variables."
   ]
  },
  {
   "cell_type": "code",
   "execution_count": 23,
   "metadata": {},
   "outputs": [
    {
     "name": "stdout",
     "output_type": "stream",
     "text": [
      "A is A VERY LONG TEXT and x = 212\n"
     ]
    }
   ],
   "source": [
    "title = 'A is %s and x = %s' % (A.upper(),x)\n",
    "print(title)"
   ]
  },
  {
   "cell_type": "markdown",
   "metadata": {},
   "source": [
    "Task : Crete a _str_ variable having A and x values and type description."
   ]
  },
  {
   "cell_type": "code",
   "execution_count": 24,
   "metadata": {},
   "outputs": [],
   "source": [
    "title = '' % ()"
   ]
  },
  {
   "cell_type": "markdown",
   "metadata": {},
   "source": [
    "<br>"
   ]
  },
  {
   "cell_type": "markdown",
   "metadata": {},
   "source": [
    "## Functions<br>\n",
    "A function's block in Python is defined by **def** and closed by **return**\n"
   ]
  },
  {
   "cell_type": "code",
   "execution_count": 25,
   "metadata": {},
   "outputs": [],
   "source": [
    "def myfunction():\n",
    "    # function's definition\n",
    "    return"
   ]
  },
  {
   "cell_type": "markdown",
   "metadata": {},
   "source": [
    "Indentation is key characteristic of Python programming language and it is used to separates blocks.<br>\n",
    "The indentation is set to 4 white spaces."
   ]
  },
  {
   "cell_type": "markdown",
   "metadata": {},
   "source": [
    "**Nota** : Lines beginning with a **#** are comments and will not be executed."
   ]
  },
  {
   "cell_type": "markdown",
   "metadata": {},
   "source": [
    "Functions can have input arguments"
   ]
  },
  {
   "cell_type": "code",
   "execution_count": 26,
   "metadata": {},
   "outputs": [],
   "source": [
    "def myfunction(y,z):\n",
    "    # function's definition\n",
    "    return"
   ]
  },
  {
   "cell_type": "markdown",
   "metadata": {},
   "source": [
    "And can evetually return an output when called."
   ]
  },
  {
   "cell_type": "code",
   "execution_count": 27,
   "metadata": {},
   "outputs": [],
   "source": [
    "def myfunction(y,z):\n",
    "    # It returns the input arguments product\n",
    "    return y*z"
   ]
  },
  {
   "cell_type": "markdown",
   "metadata": {},
   "source": [
    "Calling the function :"
   ]
  },
  {
   "cell_type": "code",
   "execution_count": 28,
   "metadata": {},
   "outputs": [
    {
     "data": {
      "text/plain": [
       "18"
      ]
     },
     "execution_count": 28,
     "metadata": {},
     "output_type": "execute_result"
    }
   ],
   "source": [
    "myfunction(2,9)"
   ]
  },
  {
   "cell_type": "markdown",
   "metadata": {},
   "source": [
    "Functions have their own environment. The variables defined within are not available outside them, there are called 'local' variables.<br>\n",
    "For instance, if the variable 'y' is invoke, an error will be raised."
   ]
  },
  {
   "cell_type": "code",
   "execution_count": 29,
   "metadata": {},
   "outputs": [
    {
     "ename": "NameError",
     "evalue": "name 'y' is not defined",
     "output_type": "error",
     "traceback": [
      "\u001b[0;31m---------------------------------------------------------------------------\u001b[0m",
      "\u001b[0;31mNameError\u001b[0m                                 Traceback (most recent call last)",
      "\u001b[0;32m<ipython-input-29-9063a9f0e032>\u001b[0m in \u001b[0;36m<module>\u001b[0;34m\u001b[0m\n\u001b[0;32m----> 1\u001b[0;31m \u001b[0my\u001b[0m\u001b[0;34m\u001b[0m\u001b[0;34m\u001b[0m\u001b[0m\n\u001b[0m",
      "\u001b[0;31mNameError\u001b[0m: name 'y' is not defined"
     ]
    }
   ],
   "source": [
    "y"
   ]
  },
  {
   "cell_type": "markdown",
   "metadata": {},
   "source": [
    "Variables defined outside a function block are global variables.<br>\n",
    "Global variables cannot be, **by default** be modified within a function block."
   ]
  },
  {
   "cell_type": "code",
   "execution_count": 30,
   "metadata": {},
   "outputs": [
    {
     "name": "stdout",
     "output_type": "stream",
     "text": [
      "27\n"
     ]
    }
   ],
   "source": [
    "y = myfunction(3,9)\n",
    "print(y)"
   ]
  },
  {
   "cell_type": "markdown",
   "metadata": {},
   "source": [
    "The _global y_ equals to 27, whereas the _local y_ equals 3"
   ]
  },
  {
   "cell_type": "markdown",
   "metadata": {},
   "source": [
    "However, there is a method to alter global variables within functions, although it is highly not recommend.<br>\n",
    "Because it can lead to **catastrophic** results."
   ]
  },
  {
   "cell_type": "markdown",
   "metadata": {},
   "source": [
    "Funciones can return more than a single output."
   ]
  },
  {
   "cell_type": "code",
   "execution_count": 31,
   "metadata": {},
   "outputs": [],
   "source": [
    "def myotherfunction(x,y):\n",
    "    prod = x*y\n",
    "    add = x+y\n",
    "    return prod,add"
   ]
  },
  {
   "cell_type": "markdown",
   "metadata": {},
   "source": [
    "To get the product and addition results, both variable need to be defined.<br>"
   ]
  },
  {
   "cell_type": "code",
   "execution_count": 31,
   "metadata": {},
   "outputs": [
    {
     "name": "stdout",
     "output_type": "stream",
     "text": [
      "15\n",
      "8\n"
     ]
    }
   ],
   "source": [
    "prod , add = myotherfunction(3,5)\n",
    "print(prod)\n",
    "print(add)"
   ]
  },
  {
   "cell_type": "markdown",
   "metadata": {},
   "source": [
    "# Storage\n",
    "Python has different ways to store variables and data.<br>\n",
    "\n",
    "The 2 more popular are :\n",
    "+ list : Commonly used to store an ordered list of strings and/or numbers\n",
    "+ dictionary : Multidimensional objects accesible by keys"
   ]
  },
  {
   "cell_type": "markdown",
   "metadata": {},
   "source": [
    "Let start by introducing lists. This given list is made upon 3 _strings_"
   ]
  },
  {
   "cell_type": "code",
   "execution_count": 32,
   "metadata": {},
   "outputs": [
    {
     "name": "stdout",
     "output_type": "stream",
     "text": [
      "['A', 'B', 'C']\n"
     ]
    }
   ],
   "source": [
    "mylist= ['A','B','C']\n",
    "print(mylist)"
   ]
  },
  {
   "cell_type": "markdown",
   "metadata": {},
   "source": [
    "Lists can be made upon a great variety of Python objects..."
   ]
  },
  {
   "cell_type": "code",
   "execution_count": 33,
   "metadata": {},
   "outputs": [],
   "source": [
    "list_b = [A,'B','C']"
   ]
  },
  {
   "cell_type": "markdown",
   "metadata": {},
   "source": [
    "What's the difference between mylist and list_b?"
   ]
  },
  {
   "cell_type": "code",
   "execution_count": 34,
   "metadata": {},
   "outputs": [
    {
     "name": "stdout",
     "output_type": "stream",
     "text": [
      "['a very long text', 'B', 'C']\n"
     ]
    }
   ],
   "source": [
    "print(list_b)"
   ]
  },
  {
   "cell_type": "markdown",
   "metadata": {},
   "source": [
    "A is a variable, nor a _string_. Quotation marks make the difference.<br>\n",
    "We could also use x as a string or as a variable, or even add a number."
   ]
  },
  {
   "cell_type": "code",
   "execution_count": 35,
   "metadata": {},
   "outputs": [
    {
     "name": "stdout",
     "output_type": "stream",
     "text": [
      "['a very long text', 'B', 212, 'x', 345]\n"
     ]
    }
   ],
   "source": [
    "mylist = [A,'B',x,'x',345]\n",
    "print(mylist)"
   ]
  },
  {
   "cell_type": "markdown",
   "metadata": {},
   "source": [
    "**Note** : Jupyter color highlights items based on their objects properties."
   ]
  },
  {
   "cell_type": "markdown",
   "metadata": {},
   "source": [
    "Task : Create a function returning the product and addition of the input arguments in a list."
   ]
  },
  {
   "cell_type": "code",
   "execution_count": 36,
   "metadata": {},
   "outputs": [],
   "source": [
    "def mylistfunction(x,y):\n",
    "    # Function \n",
    "    return"
   ]
  },
  {
   "cell_type": "code",
   "execution_count": 37,
   "metadata": {},
   "outputs": [
    {
     "name": "stdout",
     "output_type": "stream",
     "text": [
      "None\n"
     ]
    }
   ],
   "source": [
    "flista = mylistfunction(4,0)\n",
    "print(flista)"
   ]
  },
  {
   "cell_type": "markdown",
   "metadata": {},
   "source": [
    "Lists are made upon ordered elements, therefore it is possible to access them by their index within the list.\n",
    "<br>\n",
    "The first element corresponds to the **ZERO** index (this is an arbitrary decision in Python... although most of the current programing languages made the same)"
   ]
  },
  {
   "cell_type": "code",
   "execution_count": 38,
   "metadata": {},
   "outputs": [
    {
     "data": {
      "text/plain": [
       "'a very long text'"
      ]
     },
     "execution_count": 38,
     "metadata": {},
     "output_type": "execute_result"
    }
   ],
   "source": [
    "mylist[0]"
   ]
  },
  {
   "cell_type": "markdown",
   "metadata": {},
   "source": [
    "And so on ..."
   ]
  },
  {
   "cell_type": "code",
   "execution_count": 39,
   "metadata": {},
   "outputs": [
    {
     "name": "stdout",
     "output_type": "stream",
     "text": [
      "B\n",
      "212\n",
      "x\n",
      "345\n"
     ]
    }
   ],
   "source": [
    "print(mylist[1])\n",
    "print(mylist[2])\n",
    "print(mylist[3])\n",
    "print(mylist[4])"
   ]
  },
  {
   "cell_type": "markdown",
   "metadata": {},
   "source": [
    "It is also possible to access elements within a list in reversal.<br>\n",
    "The last index is -1.<br>\n",
    "The previous to the last index is -2, and so on..."
   ]
  },
  {
   "cell_type": "code",
   "execution_count": 40,
   "metadata": {},
   "outputs": [
    {
     "name": "stdout",
     "output_type": "stream",
     "text": [
      "345\n",
      "x\n",
      "212\n",
      "B\n"
     ]
    }
   ],
   "source": [
    "print(mylist[-1])\n",
    "print(mylist[-2])\n",
    "print(mylist[-3])\n",
    "print(mylist[-4])"
   ]
  },
  {
   "cell_type": "markdown",
   "metadata": {},
   "source": [
    "<br>"
   ]
  },
  {
   "cell_type": "markdown",
   "metadata": {},
   "source": [
    "The other popular storage option in Python is the _dictionary_"
   ]
  },
  {
   "cell_type": "markdown",
   "metadata": {},
   "source": [
    "Dictionaries are defined by _keys_. <br>\n",
    "Once the _key_ is defined, it can contain any of the objects that exist in Python."
   ]
  },
  {
   "cell_type": "code",
   "execution_count": 41,
   "metadata": {},
   "outputs": [],
   "source": [
    "a = dict({'A':2 , 'B':[1,34,2], 'C':A})"
   ]
  },
  {
   "cell_type": "code",
   "execution_count": 42,
   "metadata": {},
   "outputs": [
    {
     "name": "stdout",
     "output_type": "stream",
     "text": [
      "{'A': 2, 'B': [1, 34, 2], 'C': 'a very long text'}\n"
     ]
    }
   ],
   "source": [
    "print(a)"
   ]
  },
  {
   "cell_type": "markdown",
   "metadata": {},
   "source": [
    "Elements within a dictionaries are accesible by their _key_.<br>"
   ]
  },
  {
   "cell_type": "code",
   "execution_count": 43,
   "metadata": {},
   "outputs": [
    {
     "data": {
      "text/plain": [
       "'a very long text'"
      ]
     },
     "execution_count": 43,
     "metadata": {},
     "output_type": "execute_result"
    }
   ],
   "source": [
    "a['C']"
   ]
  },
  {
   "cell_type": "markdown",
   "metadata": {},
   "source": [
    "Elements within a dictionary are not ordered, therefore there is no first nor last element.<br>\n",
    "_Keys_ can be _str_ or _int_ type (among others)"
   ]
  },
  {
   "cell_type": "code",
   "execution_count": 44,
   "metadata": {},
   "outputs": [],
   "source": [
    "a = dict({'A':2 , 'B':[1,34,2], 'C':A, 3:5})"
   ]
  },
  {
   "cell_type": "code",
   "execution_count": 45,
   "metadata": {},
   "outputs": [
    {
     "name": "stdout",
     "output_type": "stream",
     "text": [
      "{'A': 2, 'B': [1, 34, 2], 'C': 'a very long text', 3: 5}\n"
     ]
    }
   ],
   "source": [
    "print(a)"
   ]
  },
  {
   "cell_type": "markdown",
   "metadata": {},
   "source": [
    "The dictionary methods such as **.keys() or .items()** returns useful information"
   ]
  },
  {
   "cell_type": "code",
   "execution_count": 46,
   "metadata": {},
   "outputs": [
    {
     "data": {
      "text/plain": [
       "dict_keys(['A', 'B', 'C', 3])"
      ]
     },
     "execution_count": 46,
     "metadata": {},
     "output_type": "execute_result"
    }
   ],
   "source": [
    "a.keys()"
   ]
  },
  {
   "cell_type": "code",
   "execution_count": 47,
   "metadata": {},
   "outputs": [
    {
     "data": {
      "text/plain": [
       "dict_items([('A', 2), ('B', [1, 34, 2]), ('C', 'a very long text'), (3, 5)])"
      ]
     },
     "execution_count": 47,
     "metadata": {},
     "output_type": "execute_result"
    }
   ],
   "source": [
    "a.items()"
   ]
  },
  {
   "cell_type": "markdown",
   "metadata": {},
   "source": [
    "As we can see, dictionaries allow a great range of flexibility in storing data."
   ]
  },
  {
   "cell_type": "code",
   "execution_count": 48,
   "metadata": {},
   "outputs": [],
   "source": [
    "a = dict({'A':2 , 'B':[1,34,2], 'C':A, 3:5, 'function':myotherfunction(3,4)})"
   ]
  },
  {
   "cell_type": "code",
   "execution_count": 49,
   "metadata": {},
   "outputs": [
    {
     "name": "stdout",
     "output_type": "stream",
     "text": [
      "{'A': 2, 'B': [1, 34, 2], 'C': 'a very long text', 3: 5, 'function': (12, 7)}\n"
     ]
    }
   ],
   "source": [
    "print(a)"
   ]
  },
  {
   "cell_type": "code",
   "execution_count": 50,
   "metadata": {},
   "outputs": [
    {
     "data": {
      "text/plain": [
       "(12, 7)"
      ]
     },
     "execution_count": 50,
     "metadata": {},
     "output_type": "execute_result"
    }
   ],
   "source": [
    "a['function']"
   ]
  },
  {
   "cell_type": "markdown",
   "metadata": {},
   "source": [
    "Task : Create a functions which returns a dictionary with the product and sum of the first and last element of a given list"
   ]
  },
  {
   "cell_type": "code",
   "execution_count": null,
   "metadata": {},
   "outputs": [],
   "source": []
  },
  {
   "cell_type": "markdown",
   "metadata": {},
   "source": [
    "# Loops, if/else and try/except\n",
    "Loops and if/else are under the hood of what is considered flow control.<br>\n",
    "This techniques enables to created task that respond to some sort of conditions.<br>\n",
    "<br>\n",
    "Let's start with a *for* block. The for command creates a variable, N, which iteratively takes all values within the given range. "
   ]
  },
  {
   "cell_type": "code",
   "execution_count": 5,
   "metadata": {},
   "outputs": [
    {
     "name": "stdout",
     "output_type": "stream",
     "text": [
      "Loop through values within a list\n",
      "1\n",
      "2\n",
      "3\n",
      "Loop through items within a list\n",
      "A\n",
      "B\n",
      "C\n"
     ]
    }
   ],
   "source": [
    "print('Loop through values within a list')\n",
    "for N in [1,2,3]:  \n",
    "    print(N)\n",
    "    \n",
    "print('Loop through items within a list')\n",
    "for N in mylist:\n",
    "    print(N)"
   ]
  },
  {
   "cell_type": "markdown",
   "metadata": {},
   "source": [
    "The range(N) built-in function returns integers ranging from 0 to (N-1) **by default**.<br>\n",
    "Otherwise, returns integers from start to (end-1)."
   ]
  },
  {
   "cell_type": "code",
   "execution_count": 7,
   "metadata": {},
   "outputs": [
    {
     "name": "stdout",
     "output_type": "stream",
     "text": [
      "Loop through the default range function\n",
      "0\n",
      "1\n",
      "2\n",
      "Loop through the range function with input start and end input arguments\n",
      "1\n",
      "2\n"
     ]
    }
   ],
   "source": [
    "print('Loop through the default range function')\n",
    "for N in range(3):  \n",
    "    print(N)\n",
    "    \n",
    "print('Loop through the range function with input start and end input arguments')\n",
    "for N in range(1,3):  \n",
    "    print(N)    "
   ]
  },
  {
   "cell_type": "markdown",
   "metadata": {},
   "source": [
    "<br>\n",
    "The **if/else** flow control block enable us to apply different actions based upon the loop values. "
   ]
  },
  {
   "cell_type": "code",
   "execution_count": 10,
   "metadata": {},
   "outputs": [
    {
     "name": "stdout",
     "output_type": "stream",
     "text": [
      "Print values below a given number only\n",
      "0\n",
      "1\n",
      "2\n",
      "3\n",
      "4\n",
      "5\n"
     ]
    }
   ],
   "source": [
    "print('Print values below a given number only')\n",
    "for N in range(10):  \n",
    "    if N <= 5:\n",
    "        print(N)"
   ]
  },
  {
   "cell_type": "code",
   "execution_count": 11,
   "metadata": {},
   "outputs": [
    {
     "name": "stdout",
     "output_type": "stream",
     "text": [
      "Print values below a given number only, otherwise show alarm\n",
      "0\n",
      "1\n",
      "2\n",
      "3\n",
      "4\n",
      "5\n",
      "The number 6 is too big!\n",
      "The number 7 is too big!\n",
      "The number 8 is too big!\n",
      "The number 9 is too big!\n"
     ]
    }
   ],
   "source": [
    "print('Print values below a given number only, otherwise show alarm')\n",
    "for N in range(10):  \n",
    "    if N <= 5:\n",
    "        print(N)\n",
    "    else:\n",
    "        print('The number %s is too big!' % N)"
   ]
  },
  {
   "cell_type": "code",
   "execution_count": 12,
   "metadata": {},
   "outputs": [
    {
     "name": "stdout",
     "output_type": "stream",
     "text": [
      "Print values below a given number only, otherwise show alarm\n",
      "0\n",
      "1\n",
      "2\n",
      "3\n",
      "4\n",
      "The number 5 is relatively big!\n",
      "The number 6 is relatively big!\n",
      "The number 7 is too big!\n",
      "The number 8 is too big!\n",
      "The number 9 is too big!\n"
     ]
    }
   ],
   "source": [
    "print('Print values below a given number only, otherwise show alarm')\n",
    "for N in range(10):  \n",
    "    if N <= 4:\n",
    "        print(N)\n",
    "    elif N <= 6:\n",
    "        print('The number %s is relatively big!' % N)        \n",
    "    else:\n",
    "        print('The number %s is too big!' % N)"
   ]
  },
  {
   "cell_type": "markdown",
   "metadata": {},
   "source": [
    "We can also loop through elements of a dictionary."
   ]
  },
  {
   "cell_type": "code",
   "execution_count": 52,
   "metadata": {},
   "outputs": [
    {
     "name": "stdout",
     "output_type": "stream",
     "text": [
      "Dictionary keys\n",
      "A\n",
      "B\n",
      "C\n",
      "3\n",
      "function\n"
     ]
    }
   ],
   "source": [
    "print('Dictionary keys')\n",
    "for key in a.keys():\n",
    "    print(key)"
   ]
  },
  {
   "cell_type": "code",
   "execution_count": 56,
   "metadata": {},
   "outputs": [
    {
     "name": "stdout",
     "output_type": "stream",
     "text": [
      "Dictionary keys and items\n",
      "The key is A and its item is 2\n",
      "The key is B and its item is [1, 34, 2]\n",
      "The key is C and its item is a very long text\n",
      "The key is 3 and its item is 5\n",
      "The key is function and its item is (12, 7)\n"
     ]
    }
   ],
   "source": [
    "print('Dictionary keys and items')\n",
    "for key,item in a.items():\n",
    "    print( 'The key is %s and its item is %s' % (key,item) )"
   ]
  },
  {
   "cell_type": "markdown",
   "metadata": {},
   "source": [
    "<br>"
   ]
  },
  {
   "cell_type": "markdown",
   "metadata": {},
   "source": [
    "Another very useful flow control block is the try/except.<br>\n",
    "Initially, the code under **_try_** is ran.<br>\n",
    "Howecver, if something goes wrong, the program jumps to the **_except_** clause."
   ]
  },
  {
   "cell_type": "markdown",
   "metadata": {},
   "source": [
    "Let's try to sum 1 to a dictionary items. However, it will only work for numeric values..."
   ]
  },
  {
   "cell_type": "code",
   "execution_count": 60,
   "metadata": {},
   "outputs": [
    {
     "name": "stdout",
     "output_type": "stream",
     "text": [
      "Dictionary keys and items\n",
      "The new item under the key A is now 3\n",
      "The item under the key B is not a numeric value, it is a <class 'list'> type instead\n",
      "The item under the key C is not a numeric value, it is a <class 'str'> type instead\n",
      "The new item under the key 3 is now 6\n",
      "The item under the key function is not a numeric value, it is a <class 'tuple'> type instead\n"
     ]
    }
   ],
   "source": [
    "print('Dictionary keys and items')\n",
    "for key,item in a.items():\n",
    "    try:\n",
    "        newitem = item + 1\n",
    "        print( 'The new item under the key %s is now %s' % (key,newitem) )\n",
    "    except:\n",
    "        print( 'The item under the key %s is not a numeric value, it is a %s type instead' % (key,type(item)) )"
   ]
  }
 ],
 "metadata": {
  "kernelspec": {
   "display_name": "Python 3",
   "language": "python",
   "name": "python3"
  },
  "language_info": {
   "codemirror_mode": {
    "name": "ipython",
    "version": 3
   },
   "file_extension": ".py",
   "mimetype": "text/x-python",
   "name": "python",
   "nbconvert_exporter": "python",
   "pygments_lexer": "ipython3",
   "version": "3.6.7"
  }
 },
 "nbformat": 4,
 "nbformat_minor": 2
}
