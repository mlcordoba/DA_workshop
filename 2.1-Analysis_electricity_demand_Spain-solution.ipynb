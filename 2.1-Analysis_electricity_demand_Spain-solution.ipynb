{
 "cells": [
  {
   "cell_type": "code",
   "execution_count": 1,
   "metadata": {},
   "outputs": [],
   "source": [
    "# Let's import the modules\n",
    "%matplotlib inline\n",
    "import matplotlib.pyplot as plt\n",
    "import pandas as pd\n",
    "import numpy as np\n",
    "\n",
    "import warnings\n",
    "warnings.filterwarnings('ignore')"
   ]
  },
  {
   "cell_type": "code",
   "execution_count": 2,
   "metadata": {},
   "outputs": [
    {
     "data": {
      "text/html": [
       "<div>\n",
       "<style scoped>\n",
       "    .dataframe tbody tr th:only-of-type {\n",
       "        vertical-align: middle;\n",
       "    }\n",
       "\n",
       "    .dataframe tbody tr th {\n",
       "        vertical-align: top;\n",
       "    }\n",
       "\n",
       "    .dataframe thead th {\n",
       "        text-align: right;\n",
       "    }\n",
       "</style>\n",
       "<table border=\"1\" class=\"dataframe\">\n",
       "  <thead>\n",
       "    <tr style=\"text-align: right;\">\n",
       "      <th></th>\n",
       "      <th>datetime_utc</th>\n",
       "      <th>demanda</th>\n",
       "      <th>datetime_CET</th>\n",
       "    </tr>\n",
       "  </thead>\n",
       "  <tbody>\n",
       "    <tr>\n",
       "      <th>0</th>\n",
       "      <td>2013-12-31T23:00:00Z</td>\n",
       "      <td>24546.0</td>\n",
       "      <td>2014-01-01 00:00</td>\n",
       "    </tr>\n",
       "    <tr>\n",
       "      <th>1</th>\n",
       "      <td>2013-12-31T23:10:00Z</td>\n",
       "      <td>24309.0</td>\n",
       "      <td>2014-01-01 00:10</td>\n",
       "    </tr>\n",
       "  </tbody>\n",
       "</table>\n",
       "</div>"
      ],
      "text/plain": [
       "           datetime_utc  demanda      datetime_CET\n",
       "0  2013-12-31T23:00:00Z  24546.0  2014-01-01 00:00\n",
       "1  2013-12-31T23:10:00Z  24309.0  2014-01-01 00:10"
      ]
     },
     "execution_count": 2,
     "metadata": {},
     "output_type": "execute_result"
    }
   ],
   "source": [
    "# Loading the demand file (previously downloaded via REE API)\n",
    "RAW = pd.read_csv('REE_demanda_real.csv')\n",
    "RAW.head(2)"
   ]
  },
  {
   "cell_type": "code",
   "execution_count": 3,
   "metadata": {},
   "outputs": [],
   "source": [
    "# We select the fields of interest and we rename them\n",
    "DEM = RAW[['datetime_CET','demanda']]\n",
    "DEM.columns = ['date','demand']"
   ]
  },
  {
   "cell_type": "code",
   "execution_count": 4,
   "metadata": {},
   "outputs": [],
   "source": [
    "# We add datetime properties to the date column and set it as index\n",
    "DEM.loc[:,'date'] = pd.DatetimeIndex(pd.to_datetime(DEM['date']))\n",
    "DEM.set_index(['date'],inplace=True)"
   ]
  },
  {
   "cell_type": "code",
   "execution_count": 5,
   "metadata": {},
   "outputs": [
    {
     "data": {
      "text/html": [
       "<div>\n",
       "<style scoped>\n",
       "    .dataframe tbody tr th:only-of-type {\n",
       "        vertical-align: middle;\n",
       "    }\n",
       "\n",
       "    .dataframe tbody tr th {\n",
       "        vertical-align: top;\n",
       "    }\n",
       "\n",
       "    .dataframe thead th {\n",
       "        text-align: right;\n",
       "    }\n",
       "</style>\n",
       "<table border=\"1\" class=\"dataframe\">\n",
       "  <thead>\n",
       "    <tr style=\"text-align: right;\">\n",
       "      <th></th>\n",
       "      <th>demand</th>\n",
       "    </tr>\n",
       "    <tr>\n",
       "      <th>date</th>\n",
       "      <th></th>\n",
       "    </tr>\n",
       "  </thead>\n",
       "  <tbody>\n",
       "    <tr>\n",
       "      <th>2014-01-01 00:00:00</th>\n",
       "      <td>24301.666667</td>\n",
       "    </tr>\n",
       "    <tr>\n",
       "      <th>2014-01-01 01:00:00</th>\n",
       "      <td>23365.333333</td>\n",
       "    </tr>\n",
       "    <tr>\n",
       "      <th>2014-01-01 02:00:00</th>\n",
       "      <td>21672.500000</td>\n",
       "    </tr>\n",
       "    <tr>\n",
       "      <th>2014-01-01 03:00:00</th>\n",
       "      <td>20192.000000</td>\n",
       "    </tr>\n",
       "    <tr>\n",
       "      <th>2014-01-01 04:00:00</th>\n",
       "      <td>19220.666667</td>\n",
       "    </tr>\n",
       "  </tbody>\n",
       "</table>\n",
       "</div>"
      ],
      "text/plain": [
       "                           demand\n",
       "date                             \n",
       "2014-01-01 00:00:00  24301.666667\n",
       "2014-01-01 01:00:00  23365.333333\n",
       "2014-01-01 02:00:00  21672.500000\n",
       "2014-01-01 03:00:00  20192.000000\n",
       "2014-01-01 04:00:00  19220.666667"
      ]
     },
     "execution_count": 5,
     "metadata": {},
     "output_type": "execute_result"
    }
   ],
   "source": [
    "# Hourly demand\n",
    "HDEM = DEM['demand'].resample('1H').mean().to_frame()\n",
    "HDEM.head()"
   ]
  },
  {
   "cell_type": "code",
   "execution_count": 6,
   "metadata": {},
   "outputs": [
    {
     "data": {
      "image/png": "[encoded data removed]",
      "text/plain": [
       "<Figure size 864x360 with 1 Axes>"
      ]
     },
     "metadata": {
      "needs_background": "light"
     },
     "output_type": "display_data"
    }
   ],
   "source": [
    "# Average day (simple plot)\n",
    "month = 'Aug' ; weekday = 'Sun' \n",
    "\n",
    "SEL = HDEM.loc[(HDEM.index.strftime('%a') == weekday) & (HDEM.index.strftime('%b') == month)]\n",
    "\n",
    "# Group-by\n",
    "GB = SEL.groupby(SEL.index.hour)\n",
    "\n",
    "fig, ax = plt.subplots(figsize=(12,5))\n",
    "GB.mean().plot(ax=ax)\n",
    "ax.grid()"
   ]
  },
  {
   "cell_type": "code",
   "execution_count": null,
   "metadata": {},
   "outputs": [],
   "source": [
    "# An simplistic subplot ...\n",
    "fontsize = 10\n",
    "fig, ax = plt.subplots(4,3,figsize=(20,10))\n",
    "\n",
    "counter = 0\n",
    "for month in ['Jan','Feb','Mar','Apr','May','Jun','Jul','Aug','Sep','Oct','Nov','Dec']:\n",
    "    counter += 1 ; ax = plt.subplot(4,3,counter)\n",
    "    for weekday in ['Mon','Tue','Wed','Thu','Fri','Sat','Sun']:\n",
    "        SEL = HDEM.loc[(HDEM.index.strftime('%a') == weekday) & (HDEM.index.strftime('%b') == month)]\n",
    "        GB = SEL.groupby(SEL.index.hour) \n",
    "        plt.plot(GB.mean(),label=weekday)\n",
    "        plt.title('%s' % month)\n",
    "        plt.grid('on')\n",
    "        plt.ylim((20000,40000))\n",
    "        plt.yticks(np.arange(20000,45000,5000))\n",
    "        "
   ]
  }
 ],
 "metadata": {
  "kernelspec": {
   "display_name": "Python 3",
   "language": "python",
   "name": "python3"
  },
  "language_info": {
   "codemirror_mode": {
    "name": "ipython",
    "version": 3
   },
   "file_extension": ".py",
   "mimetype": "text/x-python",
   "name": "python",
   "nbconvert_exporter": "python",
   "pygments_lexer": "ipython3",
   "version": "3.6.7"
  }
 },
 "nbformat": 4,
 "nbformat_minor": 2
}
