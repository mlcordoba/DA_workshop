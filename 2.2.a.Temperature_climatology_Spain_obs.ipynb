{
 "cells": [
  {
   "cell_type": "markdown",
   "metadata": {},
   "source": [
    "2.2.1 Temperature climatology in Spain (obs)\n",
    "=====================================\n",
    "In this notebook we will analise daily meteorological observations to derive anomalies.<br>\n",
    "Our final goal is to know whether the temperature anomaly has influence on the power demand or not.<br>\n",
    "<br>\n",
    "However, before doing the climatological analysis, we will go through the Spanish meteorological service API (AEMET) to get access to the data.<br>\n",
    "Let's import the useful module first."
   ]
  },
  {
   "cell_type": "code",
   "execution_count": 1,
   "metadata": {},
   "outputs": [],
   "source": [
    "import requests\n",
    "import json\n",
    "import pandas as pd\n",
    "import datetime"
   ]
  },
  {
   "cell_type": "markdown",
   "metadata": {},
   "source": [
    "#  Data access\n",
    "The daily summary of all stations can be found on this URL"
   ]
  },
  {
   "cell_type": "code",
   "execution_count": 2,
   "metadata": {},
   "outputs": [],
   "source": [
    "URL = 'https://opendata.aemet.es/opendata/api/valores/climatologicos/diarios/datos/fechaini/<start_date>T00%3A00%3A00UTC/fechafin/<end_date>T00%3A00%3A00UTC/todasestaciones'"
   ]
  },
  {
   "cell_type": "code",
   "execution_count": 3,
   "metadata": {},
   "outputs": [
    {
     "name": "stdout",
     "output_type": "stream",
     "text": [
      "https://opendata.aemet.es/opendata/api/valores/climatologicos/diarios/datos/fechaini/<start_date>T00%3A00%3A00UTC/fechafin/<end_date>T00%3A00%3A00UTC/todasestaciones\n"
     ]
    }
   ],
   "source": [
    "print(URL)"
   ]
  },
  {
   "cell_type": "markdown",
   "metadata": {},
   "source": [
    "where start_date and end_date determined the range of interest.<br>\n",
    "The API has a constraint, period cannot be longer than 30 days. Therefore in order to download 10 years, we will need to loop over several time periods."
   ]
  },
  {
   "cell_type": "markdown",
   "metadata": {},
   "source": [
    "However, we will need to use some datetime utils from Python and create local functions for easiness"
   ]
  },
  {
   "cell_type": "code",
   "execution_count": 4,
   "metadata": {},
   "outputs": [],
   "source": [
    "from dateutil.relativedelta import *\n",
    "import time\n",
    "\n",
    "def numdate(datein,formatin):\n",
    "    \"\"\"The 'numdate' function converts a string 'datein' into a 'datetime' value based on a date format 'formatin'\n",
    "    \"\"\"\n",
    "    dateout = datetime.datetime.strptime(datein,formatin)\n",
    "    return dateout\n",
    "\n",
    "def write_date(datein,formatout):\n",
    "    \"\"\"The 'numdate' function converts a 'datetime' value into a string based on a date format 'formatin'\n",
    "    \"\"\"\n",
    "    dateout = datein.strftime(formatout)\n",
    "    return dateout"
   ]
  },
  {
   "cell_type": "code",
   "execution_count": 5,
   "metadata": {},
   "outputs": [],
   "source": [
    "# Vamos a generar una serie de fechas, puesto que la API de AEMET no nos permite buscar mas de \n",
    "first_date = numdate('2017-09-05','%Y-%m-%d') ; last_date = numdate('2017-11-20','%Y-%m-%d')\n",
    "\n",
    "# loop while\n",
    "loop_date = first_date\n",
    "datenum_list = []\n",
    "while loop_date <= last_date:\n",
    "    datenum_list.append(loop_date)\n",
    "    loop_date += relativedelta(days=21)    "
   ]
  },
  {
   "cell_type": "code",
   "execution_count": 6,
   "metadata": {},
   "outputs": [
    {
     "name": "stdout",
     "output_type": "stream",
     "text": [
      "[datetime.datetime(2017, 9, 5, 0, 0), datetime.datetime(2017, 9, 26, 0, 0), datetime.datetime(2017, 10, 17, 0, 0), datetime.datetime(2017, 11, 7, 0, 0)]\n"
     ]
    }
   ],
   "source": [
    "print(datenum_list)"
   ]
  },
  {
   "cell_type": "code",
   "execution_count": 7,
   "metadata": {},
   "outputs": [],
   "source": [
    "# APIKEY\n",
    "api_key = \"eyJhbGciOiJIUzI1NiJ9.eyJzdWIiOiJtaWd1ZWwuY29yZG9iYUB3ZWF0aGVydHJlbmQuZXMiLCJqdGkiOiI5ODZhMT\"+\\\n",
    "\"JlYy03OGViLTQwOTktYmIxZS1hNmI4ZjQ3OTg0MzMiLCJpc3MiOiJBRU1FVCIsImlhdCI6MTUxNzg0OTI0MywidXNlcklkIjoiOT\"+\\\n",
    "\"g2YTEyZWMtNzhlYi00MDk5LWJiMWUtYTZiOGY0Nzk4NDMzIiwicm9sZSI6IiJ9.YeSmzO_si0SavN2KYCKzjnsSd_NzNtDqOZP9nMQgYA0\"\n",
    "\n",
    "querystring = {\"api_key\":api_key}\n",
    "\n",
    "headers = {'cache-control': \"no-cache\"}\n",
    "\n",
    "# AEMET web has not digital certificate\n",
    "# To avoid 'warning' messages when doing a unsafe connection let's explicitly ignore those messages\n",
    "import warnings\n",
    "warnings.filterwarnings('ignore')"
   ]
  },
  {
   "cell_type": "code",
   "execution_count": 8,
   "metadata": {},
   "outputs": [],
   "source": [
    "# Usamos las funcion 'numdate' para tener la fecha inicial (.min) y final (.max) en formato 'datetime'\n",
    "last_time  = numdate(DATOS['fint'].max(),'%Y-%m-%dT%H:%M:%S')\n",
    "first_time = numdate(DATOS['fint'].min(),'%Y-%m-%dT%H:%M:%S')"
   ]
  },
  {
   "cell_type": "code",
   "execution_count": 9,
   "metadata": {},
   "outputs": [
    {
     "name": "stdout",
     "output_type": "stream",
     "text": [
      "./datos_aemet/aemet_valores_climatologicos_todas_2017-09-05_2017-09-25.csv\n",
      "./datos_aemet/aemet_valores_climatologicos_todas_2017-09-26_2017-10-16.csv\n",
      "./datos_aemet/aemet_valores_climatologicos_todas_2017-10-17_2017-11-06.csv\n"
     ]
    }
   ],
   "source": [
    "# Establecemos la primera conexión\n",
    "for startd, endd in zip(datenum_list[:-1],datenum_list[1:]):\n",
    "    \n",
    "    # Here we write with the appropiate format the start and end date.\n",
    "    wstartd = write_date(startd,'%Y-%m-%d')\n",
    "    wendd   = write_date(endd + relativedelta(days=-1),'%Y-%m-%d') # the end date is one day before the following start date\n",
    "    \n",
    "    # Writing the URL replacing the start and end date\n",
    "    url_tmp = URL.replace('<start_date>',wstartd)\n",
    "    url_tmp = url_tmp.replace('<end_date>',wendd)\n",
    "\n",
    "    response = requests.get(url, headers=headers, params=querystring,verify=False)\n",
    "    RESPONSE = eval(response.text)\n",
    "\n",
    "    # Usamos try/except para conocer algo mas de los posibles errores\n",
    "    try:    \n",
    "        if RESPONSE['descripcion'] == 'exito':\n",
    "            # If the conection has been successful, we stablish the second one towards the data\n",
    "            acceso = requests.get(RESPONSE['datos'], headers=headers, params=querystring, verify=False)\n",
    "        else:\n",
    "            print ('Error at the second conection : Cant access the JSON file')\n",
    "    except:\n",
    "        print ('Error at the first conection')\n",
    "\n",
    "    # We are using Pandas to move from JSON to CSV easily\n",
    "    DATOS = pd.DataFrame.from_dict(acceso.json())\n",
    "\n",
    "    # File name\n",
    "    file_csv = 'aemet_valores_climatologicos_todas_%s_%s.csv' % (wstartd,wendd)\n",
    "    # Last action, export DataFrame to CSV\n",
    "    DATOS.to_csv(file_csv,index=False)    \n",
    "    print (file_csv)\n",
    "    time.sleep(10) # Let's wait few seconds in other to be gentle and mitigate the risk of being kick out"
   ]
  },
  {
   "cell_type": "code",
   "execution_count": 12,
   "metadata": {},
   "outputs": [
    {
     "data": {
      "text/html": [
       "<div>\n",
       "<style scoped>\n",
       "    .dataframe tbody tr th:only-of-type {\n",
       "        vertical-align: middle;\n",
       "    }\n",
       "\n",
       "    .dataframe tbody tr th {\n",
       "        vertical-align: top;\n",
       "    }\n",
       "\n",
       "    .dataframe thead th {\n",
       "        text-align: right;\n",
       "    }\n",
       "</style>\n",
       "<table border=\"1\" class=\"dataframe\">\n",
       "  <thead>\n",
       "    <tr style=\"text-align: right;\">\n",
       "      <th></th>\n",
       "      <th>altitud</th>\n",
       "      <th>dir</th>\n",
       "      <th>fecha</th>\n",
       "      <th>horaPresMax</th>\n",
       "      <th>horaPresMin</th>\n",
       "      <th>horaracha</th>\n",
       "      <th>horatmax</th>\n",
       "      <th>horatmin</th>\n",
       "      <th>indicativo</th>\n",
       "      <th>nombre</th>\n",
       "      <th>prec</th>\n",
       "      <th>presMax</th>\n",
       "      <th>presMin</th>\n",
       "      <th>provincia</th>\n",
       "      <th>racha</th>\n",
       "      <th>sol</th>\n",
       "      <th>tmax</th>\n",
       "      <th>tmed</th>\n",
       "      <th>tmin</th>\n",
       "      <th>velmedia</th>\n",
       "    </tr>\n",
       "  </thead>\n",
       "  <tbody>\n",
       "    <tr>\n",
       "      <th>0</th>\n",
       "      <td>273</td>\n",
       "      <td>19</td>\n",
       "      <td>2017-10-17</td>\n",
       "      <td>09</td>\n",
       "      <td>24</td>\n",
       "      <td>13:00</td>\n",
       "      <td>00:10</td>\n",
       "      <td>08:20</td>\n",
       "      <td>4358X</td>\n",
       "      <td>DON BENITO</td>\n",
       "      <td>16,8</td>\n",
       "      <td>988,6</td>\n",
       "      <td>983,7</td>\n",
       "      <td>BADAJOZ</td>\n",
       "      <td>11,9</td>\n",
       "      <td>1,4</td>\n",
       "      <td>22,9</td>\n",
       "      <td>19,8</td>\n",
       "      <td>16,8</td>\n",
       "      <td>2,8</td>\n",
       "    </tr>\n",
       "    <tr>\n",
       "      <th>1</th>\n",
       "      <td>486</td>\n",
       "      <td>25</td>\n",
       "      <td>2017-10-17</td>\n",
       "      <td>NaN</td>\n",
       "      <td>NaN</td>\n",
       "      <td>13:50</td>\n",
       "      <td>11:40</td>\n",
       "      <td>03:10</td>\n",
       "      <td>4220X</td>\n",
       "      <td>PUEBLA DE DON RODRIGO</td>\n",
       "      <td>16,8</td>\n",
       "      <td>NaN</td>\n",
       "      <td>NaN</td>\n",
       "      <td>CIUDAD REAL</td>\n",
       "      <td>9,2</td>\n",
       "      <td>NaN</td>\n",
       "      <td>22,0</td>\n",
       "      <td>17,8</td>\n",
       "      <td>13,6</td>\n",
       "      <td>2,2</td>\n",
       "    </tr>\n",
       "    <tr>\n",
       "      <th>2</th>\n",
       "      <td>632</td>\n",
       "      <td>99</td>\n",
       "      <td>2017-10-17</td>\n",
       "      <td>Varias</td>\n",
       "      <td>05</td>\n",
       "      <td>Varias</td>\n",
       "      <td>13:08</td>\n",
       "      <td>23:24</td>\n",
       "      <td>C447A</td>\n",
       "      <td>TENERIFE NORTE AEROPUERTO</td>\n",
       "      <td>0,1</td>\n",
       "      <td>953,8</td>\n",
       "      <td>951,0</td>\n",
       "      <td>STA. CRUZ DE TENERIFE</td>\n",
       "      <td>11,7</td>\n",
       "      <td>6,1</td>\n",
       "      <td>23,3</td>\n",
       "      <td>20,2</td>\n",
       "      <td>17,1</td>\n",
       "      <td>5,8</td>\n",
       "    </tr>\n",
       "    <tr>\n",
       "      <th>3</th>\n",
       "      <td>408</td>\n",
       "      <td>18</td>\n",
       "      <td>2017-10-17</td>\n",
       "      <td>00</td>\n",
       "      <td>24</td>\n",
       "      <td>00:30</td>\n",
       "      <td>NaN</td>\n",
       "      <td>NaN</td>\n",
       "      <td>6106X</td>\n",
       "      <td>ANTEQUERA</td>\n",
       "      <td>16,6</td>\n",
       "      <td>975,0</td>\n",
       "      <td>969,3</td>\n",
       "      <td>MALAGA</td>\n",
       "      <td>15,0</td>\n",
       "      <td>NaN</td>\n",
       "      <td>NaN</td>\n",
       "      <td>NaN</td>\n",
       "      <td>NaN</td>\n",
       "      <td>5,0</td>\n",
       "    </tr>\n",
       "    <tr>\n",
       "      <th>4</th>\n",
       "      <td>807</td>\n",
       "      <td>17</td>\n",
       "      <td>2017-10-17</td>\n",
       "      <td>00</td>\n",
       "      <td>Varias</td>\n",
       "      <td>14:40</td>\n",
       "      <td>14:10</td>\n",
       "      <td>06:20</td>\n",
       "      <td>9698U</td>\n",
       "      <td>TALARN</td>\n",
       "      <td>0,6</td>\n",
       "      <td>932,8</td>\n",
       "      <td>927,1</td>\n",
       "      <td>LLEIDA</td>\n",
       "      <td>6,4</td>\n",
       "      <td>9,2</td>\n",
       "      <td>23,3</td>\n",
       "      <td>16,2</td>\n",
       "      <td>9,0</td>\n",
       "      <td>2,2</td>\n",
       "    </tr>\n",
       "  </tbody>\n",
       "</table>\n",
       "</div>"
      ],
      "text/plain": [
       "  altitud dir       fecha horaPresMax horaPresMin horaracha horatmax horatmin  \\\n",
       "0     273  19  2017-10-17          09          24     13:00    00:10    08:20   \n",
       "1     486  25  2017-10-17         NaN         NaN     13:50    11:40    03:10   \n",
       "2     632  99  2017-10-17      Varias          05    Varias    13:08    23:24   \n",
       "3     408  18  2017-10-17          00          24     00:30      NaN      NaN   \n",
       "4     807  17  2017-10-17          00      Varias     14:40    14:10    06:20   \n",
       "\n",
       "  indicativo                     nombre  prec presMax presMin  \\\n",
       "0      4358X                 DON BENITO  16,8   988,6   983,7   \n",
       "1      4220X      PUEBLA DE DON RODRIGO  16,8     NaN     NaN   \n",
       "2      C447A  TENERIFE NORTE AEROPUERTO   0,1   953,8   951,0   \n",
       "3      6106X                  ANTEQUERA  16,6   975,0   969,3   \n",
       "4      9698U                     TALARN   0,6   932,8   927,1   \n",
       "\n",
       "               provincia racha  sol  tmax  tmed  tmin velmedia  \n",
       "0                BADAJOZ  11,9  1,4  22,9  19,8  16,8      2,8  \n",
       "1            CIUDAD REAL   9,2  NaN  22,0  17,8  13,6      2,2  \n",
       "2  STA. CRUZ DE TENERIFE  11,7  6,1  23,3  20,2  17,1      5,8  \n",
       "3                 MALAGA  15,0  NaN   NaN   NaN   NaN      5,0  \n",
       "4                 LLEIDA   6,4  9,2  23,3  16,2   9,0      2,2  "
      ]
     },
     "execution_count": 12,
     "metadata": {},
     "output_type": "execute_result"
    }
   ],
   "source": [
    "# Let's have a quick look at the data\n",
    "DATOS.head()"
   ]
  }
 ],
 "metadata": {
  "kernelspec": {
   "display_name": "Python 3",
   "language": "python",
   "name": "python3"
  },
  "language_info": {
   "codemirror_mode": {
    "name": "ipython",
    "version": 3
   },
   "file_extension": ".py",
   "mimetype": "text/x-python",
   "name": "python",
   "nbconvert_exporter": "python",
   "pygments_lexer": "ipython3",
   "version": "3.6.7"
  }
 },
 "nbformat": 4,
 "nbformat_minor": 2
}
